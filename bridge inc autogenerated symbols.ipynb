{
 "cells": [
  {
   "cell_type": "code",
   "execution_count": 1,
   "metadata": {},
   "outputs": [],
   "source": [
    "import matplotlib.pyplot as plt\n",
    "import numpy as np\n",
    "\n",
    "import tensorflow as tf\n",
    "import tensorflow_datasets as tfds\n",
    "import tensorflow.keras as keras\n",
    "import tensorflow.keras.layers as layers"
   ]
  },
  {
   "cell_type": "code",
   "execution_count": 2,
   "metadata": {},
   "outputs": [],
   "source": [
    "from utils import *\n",
    "from data import *\n",
    "from layers import *\n",
    "from models import *"
   ]
  },
  {
   "cell_type": "code",
   "execution_count": 3,
   "metadata": {},
   "outputs": [],
   "source": [
    "import pickle as p\n",
    "import io "
   ]
  },
  {
   "cell_type": "code",
   "execution_count": 4,
   "metadata": {},
   "outputs": [],
   "source": [
    "limit_gpus()\n",
    "set_gpu(2)"
   ]
  },
  {
   "cell_type": "code",
   "execution_count": 5,
   "metadata": {},
   "outputs": [],
   "source": [
    "dataset = \"mnist\"\n",
    "n_batch = 256\n",
    "\n",
    "ds_train, ds_test, ds_info = load_dataset(dataset)\n",
    "\n",
    "input_shape = ds_info.features['image'].shape\n",
    "num_classes = ds_info.features['label'].num_classes\n"
   ]
  },
  {
   "cell_type": "code",
   "execution_count": 6,
   "metadata": {},
   "outputs": [],
   "source": [
    "ds_test = ds_test.batch(n_batch)\n",
    "ds_test = ds_test.prefetch(tf.data.experimental.AUTOTUNE)"
   ]
  },
  {
   "cell_type": "code",
   "execution_count": 7,
   "metadata": {},
   "outputs": [],
   "source": [
    "head = keras.models.load_model(\"ae_conv_head.h5\")\n",
    "head.compile()\n",
    "\n",
    "inv_head = keras.models.load_model(\"ae_inv_head.h5\")\n",
    "inv_head.compile()"
   ]
  },
  {
   "cell_type": "code",
   "execution_count": 8,
   "metadata": {},
   "outputs": [],
   "source": [
    "n_d = 1000\n",
    "n_hidden = 100\n",
    "\n",
    "image_input = keras.Input(shape=input_shape)\n",
    "class_input = keras.Input(shape=(n_d,))"
   ]
  },
  {
   "cell_type": "code",
   "execution_count": 9,
   "metadata": {},
   "outputs": [],
   "source": [
    "dat_x, dat_y = get_raw_dat(ds_train.batch(128))"
   ]
  },
  {
   "cell_type": "code",
   "execution_count": 10,
   "metadata": {},
   "outputs": [
    {
     "name": "stdout",
     "output_type": "stream",
     "text": [
      "12665\n",
      "12089\n",
      "11263\n",
      "12183\n",
      "11800\n"
     ]
    }
   ],
   "source": [
    "cdp = class_data_pairs(dat_x,dat_y)"
   ]
  },
  {
   "cell_type": "code",
   "execution_count": 11,
   "metadata": {},
   "outputs": [],
   "source": [
    "def conf_acc(model):\n",
    "    conf = model.accuracy(ds_test, True)[0]\n",
    "    acc = confusion_to_acc(conf)\n",
    "    print(acc)\n",
    "    plt.pcolor(conf)"
   ]
  },
  {
   "cell_type": "code",
   "execution_count": 12,
   "metadata": {},
   "outputs": [],
   "source": [
    "plotconf = lambda: conf_acc(incm)"
   ]
  },
  {
   "cell_type": "code",
   "execution_count": 13,
   "metadata": {},
   "outputs": [],
   "source": [
    "def match_normalize(source, dest):\n",
    "    norm = source.img_encoder.norm_symbols\n",
    "    mm = norm.moving_mean\n",
    "    ms = norm.moving_std\n",
    "    \n",
    "    norm2 = dest.img_encoder.norm_symbols\n",
    "    norm2.moving_mean = mm\n",
    "    norm2.moving_std = ms"
   ]
  },
  {
   "cell_type": "code",
   "execution_count": 14,
   "metadata": {},
   "outputs": [],
   "source": [
    "incm = IrisModel(head, inv_head, ds_info, n_d=n_d, n_hidden=n_hidden, sigma=3.0, overscan=100)\n",
    "incm.compile(optimizer=\"rmsprop\")"
   ]
  },
  {
   "cell_type": "code",
   "execution_count": 15,
   "metadata": {},
   "outputs": [],
   "source": [
    "incm.save_weights(\"si_step0\")"
   ]
  },
  {
   "cell_type": "code",
   "execution_count": 16,
   "metadata": {},
   "outputs": [],
   "source": [
    "incm.img_encoder.norm_symbols.fixed = True\n",
    "incm.img_encoder.norm_symbols.moving_mean = 0.00576\n",
    "incm.img_encoder.norm_symbols.moving_std = 5.0737"
   ]
  },
  {
   "cell_type": "markdown",
   "metadata": {},
   "source": [
    "# train on first dataset"
   ]
  },
  {
   "cell_type": "code",
   "execution_count": 17,
   "metadata": {},
   "outputs": [],
   "source": [
    "ext1 = incm.generate_external(cdp[0].batch(128), True)"
   ]
  },
  {
   "cell_type": "code",
   "execution_count": 18,
   "metadata": {},
   "outputs": [],
   "source": [
    "incm.optimizer.learning_rate = 0.0005"
   ]
  },
  {
   "cell_type": "code",
   "execution_count": 19,
   "metadata": {},
   "outputs": [
    {
     "name": "stdout",
     "output_type": "stream",
     "text": [
      "Training loss [0.98868394 0.99867505 1.0017077  0.98268783]\n"
     ]
    }
   ],
   "source": [
    "loss = incm.train(ext1,1)"
   ]
  },
  {
   "cell_type": "code",
   "execution_count": 20,
   "metadata": {},
   "outputs": [
    {
     "data": {
      "text/plain": [
       "[<matplotlib.lines.Line2D at 0x7fc8614749d0>,\n",
       " <matplotlib.lines.Line2D at 0x7fc861474a00>,\n",
       " <matplotlib.lines.Line2D at 0x7fc861474b80>,\n",
       " <matplotlib.lines.Line2D at 0x7fc861474c40>]"
      ]
     },
     "execution_count": 20,
     "metadata": {},
     "output_type": "execute_result"
    },
    {
     "data": {
      "image/png": "[encoded data removed]",
      "text/plain": [
       "<Figure size 432x288 with 1 Axes>"
      ]
     },
     "metadata": {
      "needs_background": "light"
     },
     "output_type": "display_data"
    }
   ],
   "source": [
    "plt.plot(loss)"
   ]
  },
  {
   "cell_type": "code",
   "execution_count": 21,
   "metadata": {},
   "outputs": [
    {
     "name": "stdout",
     "output_type": "stream",
     "text": [
      "0.2113\n"
     ]
    },
    {
     "data": {
      "image/png": "[encoded data removed]",
      "text/plain": [
       "<Figure size 432x288 with 1 Axes>"
      ]
     },
     "metadata": {
      "needs_background": "light"
     },
     "output_type": "display_data"
    }
   ],
   "source": [
    "plotconf()"
   ]
  },
  {
   "cell_type": "code",
   "execution_count": 22,
   "metadata": {},
   "outputs": [],
   "source": [
    "modelname = \"si_step1\""
   ]
  },
  {
   "cell_type": "code",
   "execution_count": 23,
   "metadata": {},
   "outputs": [],
   "source": [
    "incm.save_weights(modelname)"
   ]
  },
  {
   "cell_type": "markdown",
   "metadata": {},
   "source": [
    "# Train on second set"
   ]
  },
  {
   "cell_type": "code",
   "execution_count": 25,
   "metadata": {},
   "outputs": [
    {
     "name": "stdout",
     "output_type": "stream",
     "text": [
      "[1.0008972 1.0007066]\n",
      "[0.38044482 0.45707616]\n",
      "[0.1708063  0.21041778]\n",
      "[0.0940368  0.10689081]\n"
     ]
    }
   ],
   "source": [
    "h1, lh1 = incm.reconstruct_info(5000, 400, optimizer=keras.optimizers.RMSprop(lr=0.01))"
   ]
  },
  {
   "cell_type": "code",
   "execution_count": 26,
   "metadata": {},
   "outputs": [
    {
     "data": {
      "text/plain": [
       "[<matplotlib.lines.Line2D at 0x7fc861095e80>,\n",
       " <matplotlib.lines.Line2D at 0x7fc861095f70>]"
      ]
     },
     "execution_count": 26,
     "metadata": {},
     "output_type": "execute_result"
    },
    {
     "data": {
      "image/png": "[encoded data removed]",
      "text/plain": [
       "<Figure size 432x288 with 1 Axes>"
      ]
     },
     "metadata": {
      "needs_background": "light"
     },
     "output_type": "display_data"
    }
   ],
   "source": [
    "plt.plot(lh1)"
   ]
  },
  {
   "cell_type": "code",
   "execution_count": 27,
   "metadata": {},
   "outputs": [],
   "source": [
    "old1 = incm.generate_internal(h1, truefwd=False)"
   ]
  },
  {
   "cell_type": "code",
   "execution_count": null,
   "metadata": {},
   "outputs": [],
   "source": []
  },
  {
   "cell_type": "code",
   "execution_count": 44,
   "metadata": {
    "scrolled": false
   },
   "outputs": [
    {
     "data": {
      "text/plain": [
       "<tensorflow.python.training.tracking.util.CheckpointLoadStatus at 0x7fc860ead8b0>"
      ]
     },
     "execution_count": 44,
     "metadata": {},
     "output_type": "execute_result"
    }
   ],
   "source": [
    "incm.load_weights(\"si_step1\")"
   ]
  },
  {
   "cell_type": "code",
   "execution_count": 45,
   "metadata": {},
   "outputs": [
    {
     "name": "stdout",
     "output_type": "stream",
     "text": [
      "Training loss [0.02719559 0.03044832 0.05719987 0.02972024]\n",
      "Training loss [0.02236805 0.01829631 0.01701955 0.01774669]\n"
     ]
    }
   ],
   "source": [
    "#incm.train(mixed, 2)\n",
    "loss, dat = incm.train_interleaved(cdp[1], old1, 200, split=[128, 8])"
   ]
  },
  {
   "cell_type": "code",
   "execution_count": 46,
   "metadata": {
    "scrolled": true
   },
   "outputs": [
    {
     "name": "stdout",
     "output_type": "stream",
     "text": [
      "0.3733\n"
     ]
    },
    {
     "data": {
      "image/png": "[encoded data removed]",
      "text/plain": [
       "<Figure size 432x288 with 1 Axes>"
      ]
     },
     "metadata": {
      "needs_background": "light"
     },
     "output_type": "display_data"
    }
   ],
   "source": [
    "plotconf()"
   ]
  },
  {
   "cell_type": "code",
   "execution_count": 47,
   "metadata": {},
   "outputs": [],
   "source": [
    "incm.save_weights(\"si_step2\")"
   ]
  },
  {
   "cell_type": "markdown",
   "metadata": {},
   "source": [
    "# Train on third set"
   ]
  },
  {
   "cell_type": "code",
   "execution_count": 48,
   "metadata": {},
   "outputs": [
    {
     "name": "stdout",
     "output_type": "stream",
     "text": [
      "[1.0004396 1.0003903]\n",
      "[0.29889584 0.34377614]\n",
      "[0.12183065 0.12897012]\n",
      "[0.06827678 0.06234346]\n"
     ]
    }
   ],
   "source": [
    "h2, lh2 = incm.reconstruct_info(5000, 400, optimizer=keras.optimizers.RMSprop(lr=0.01))"
   ]
  },
  {
   "cell_type": "code",
   "execution_count": 49,
   "metadata": {},
   "outputs": [
    {
     "data": {
      "text/plain": [
       "[<matplotlib.lines.Line2D at 0x7fc860d88580>,\n",
       " <matplotlib.lines.Line2D at 0x7fc860d88670>]"
      ]
     },
     "execution_count": 49,
     "metadata": {},
     "output_type": "execute_result"
    },
    {
     "data": {
      "image/png": "[encoded data removed]",
      "text/plain": [
       "<Figure size 432x288 with 1 Axes>"
      ]
     },
     "metadata": {
      "needs_background": "light"
     },
     "output_type": "display_data"
    }
   ],
   "source": [
    "plt.plot(lh2)"
   ]
  },
  {
   "cell_type": "code",
   "execution_count": 50,
   "metadata": {},
   "outputs": [],
   "source": [
    "old2 = incm.generate_internal(h2, truefwd=False)"
   ]
  },
  {
   "cell_type": "code",
   "execution_count": null,
   "metadata": {},
   "outputs": [],
   "source": []
  },
  {
   "cell_type": "code",
   "execution_count": 51,
   "metadata": {
    "scrolled": false
   },
   "outputs": [
    {
     "data": {
      "text/plain": [
       "<tensorflow.python.training.tracking.util.CheckpointLoadStatus at 0x7fc860da0460>"
      ]
     },
     "execution_count": 51,
     "metadata": {},
     "output_type": "execute_result"
    }
   ],
   "source": [
    "incm.load_weights(\"si_step2\")"
   ]
  },
  {
   "cell_type": "code",
   "execution_count": 52,
   "metadata": {},
   "outputs": [
    {
     "name": "stdout",
     "output_type": "stream",
     "text": [
      "Training loss [0.02589233 0.027864   0.05547184 0.02736111]\n",
      "Training loss [0.02271221 0.01807233 0.01581308 0.01674574]\n"
     ]
    }
   ],
   "source": [
    "#incm.train(mixed, 2)\n",
    "loss, dat = incm.train_interleaved(cdp[2], old2, 200, split=[128, 8])"
   ]
  },
  {
   "cell_type": "code",
   "execution_count": 53,
   "metadata": {
    "scrolled": true
   },
   "outputs": [
    {
     "name": "stdout",
     "output_type": "stream",
     "text": [
      "0.4314\n"
     ]
    },
    {
     "data": {
      "image/png": "[encoded data removed]",
      "text/plain": [
       "<Figure size 432x288 with 1 Axes>"
      ]
     },
     "metadata": {
      "needs_background": "light"
     },
     "output_type": "display_data"
    }
   ],
   "source": [
    "plotconf()"
   ]
  },
  {
   "cell_type": "code",
   "execution_count": 54,
   "metadata": {
    "scrolled": true
   },
   "outputs": [
    {
     "name": "stdout",
     "output_type": "stream",
     "text": [
      "Training loss [0.00693441 0.00393111 0.00236688 0.00358463]\n"
     ]
    },
    {
     "data": {
      "text/plain": [
       "array([[0.00693441, 0.00393111, 0.00236688, 0.00358463],\n",
       "       [0.0058293 , 0.00378868, 0.00259396, 0.00288814],\n",
       "       [0.00504377, 0.00333421, 0.002088  , 0.00294043],\n",
       "       [0.00396882, 0.00309645, 0.00179176, 0.00229264],\n",
       "       [0.00423384, 0.00273307, 0.00217903, 0.00263757],\n",
       "       [0.00406794, 0.00319928, 0.00201234, 0.00289813],\n",
       "       [0.00417509, 0.00305382, 0.00200924, 0.00275725],\n",
       "       [0.00392271, 0.0027548 , 0.00234226, 0.00271319],\n",
       "       [0.00427541, 0.0028517 , 0.00215102, 0.00261257],\n",
       "       [0.00304236, 0.00233448, 0.00176901, 0.00176028],\n",
       "       [0.00371536, 0.00344386, 0.00301264, 0.00278858],\n",
       "       [0.00475594, 0.00344664, 0.00328966, 0.00247985],\n",
       "       [0.00374019, 0.00311479, 0.00383261, 0.00242085],\n",
       "       [0.00381888, 0.00300472, 0.00400115, 0.00253075],\n",
       "       [0.00397682, 0.00310954, 0.0032126 , 0.00244133],\n",
       "       [0.00480158, 0.00342647, 0.00352269, 0.0031701 ],\n",
       "       [0.0042875 , 0.00301367, 0.00325091, 0.00310613],\n",
       "       [0.00378423, 0.00299877, 0.00281702, 0.00293947],\n",
       "       [0.00364374, 0.00269586, 0.00289997, 0.00337427],\n",
       "       [0.00359256, 0.00291738, 0.00272584, 0.00357119],\n",
       "       [0.00370831, 0.00320064, 0.00225786, 0.00310108],\n",
       "       [0.00362747, 0.00265577, 0.00223862, 0.00272381],\n",
       "       [0.00329445, 0.00281546, 0.00223812, 0.0026203 ],\n",
       "       [0.00360107, 0.00292316, 0.00228695, 0.00267036],\n",
       "       [0.00288043, 0.00273444, 0.00197682, 0.00240753],\n",
       "       [0.00326254, 0.00256684, 0.00186493, 0.0022033 ],\n",
       "       [0.003702  , 0.00308529, 0.00220134, 0.00256276],\n",
       "       [0.00368259, 0.00305305, 0.00230575, 0.00279286],\n",
       "       [0.003504  , 0.00293228, 0.00241806, 0.00297521],\n",
       "       [0.00309745, 0.00282745, 0.00189353, 0.00244322],\n",
       "       [0.00359582, 0.00259073, 0.00188825, 0.00242934],\n",
       "       [0.00383922, 0.00303646, 0.00196455, 0.00273371],\n",
       "       [0.0031927 , 0.00260058, 0.00161735, 0.00240764],\n",
       "       [0.00367537, 0.00293615, 0.00183432, 0.0026957 ],\n",
       "       [0.00397295, 0.00272591, 0.00210987, 0.00321528],\n",
       "       [0.00356572, 0.0028236 , 0.0020315 , 0.00336039],\n",
       "       [0.00353967, 0.00234845, 0.00187156, 0.00289073],\n",
       "       [0.00316321, 0.0024974 , 0.00218823, 0.00250458],\n",
       "       [0.00334912, 0.00222616, 0.00219249, 0.00189825],\n",
       "       [0.00328165, 0.00487602, 0.00260241, 0.00339846]], dtype=float32)"
      ]
     },
     "execution_count": 54,
     "metadata": {},
     "output_type": "execute_result"
    }
   ],
   "source": [
    "incm.train(old2, 1)"
   ]
  },
  {
   "cell_type": "code",
   "execution_count": 55,
   "metadata": {
    "scrolled": true
   },
   "outputs": [
    {
     "name": "stdout",
     "output_type": "stream",
     "text": [
      "0.4641\n"
     ]
    },
    {
     "data": {
      "image/png": "[encoded data removed]",
      "text/plain": [
       "<Figure size 432x288 with 1 Axes>"
      ]
     },
     "metadata": {
      "needs_background": "light"
     },
     "output_type": "display_data"
    }
   ],
   "source": [
    "plotconf()"
   ]
  },
  {
   "cell_type": "code",
   "execution_count": 56,
   "metadata": {},
   "outputs": [],
   "source": [
    "incm.save_weights(\"si_step3\")"
   ]
  },
  {
   "cell_type": "markdown",
   "metadata": {},
   "source": [
    "# Train on fourth set"
   ]
  },
  {
   "cell_type": "code",
   "execution_count": 57,
   "metadata": {},
   "outputs": [
    {
     "data": {
      "text/plain": [
       "<tensorflow.python.training.tracking.util.CheckpointLoadStatus at 0x7fc861054b50>"
      ]
     },
     "execution_count": 57,
     "metadata": {},
     "output_type": "execute_result"
    }
   ],
   "source": [
    "incm.load_weights(\"si_step3\")"
   ]
  },
  {
   "cell_type": "code",
   "execution_count": 58,
   "metadata": {},
   "outputs": [
    {
     "name": "stdout",
     "output_type": "stream",
     "text": [
      "[0.9988533 1.0003949]\n",
      "[0.22873709 0.24809282]\n",
      "[0.08751725 0.08139855]\n",
      "[0.05092115 0.04035288]\n"
     ]
    }
   ],
   "source": [
    "h3, lh3 = incm.reconstruct_info(5000, 400, optimizer=keras.optimizers.RMSprop(lr=0.01))"
   ]
  },
  {
   "cell_type": "code",
   "execution_count": 59,
   "metadata": {},
   "outputs": [
    {
     "data": {
      "text/plain": [
       "[<matplotlib.lines.Line2D at 0x7fc860c61e80>,\n",
       " <matplotlib.lines.Line2D at 0x7fc860c61f70>]"
      ]
     },
     "execution_count": 59,
     "metadata": {},
     "output_type": "execute_result"
    },
    {
     "data": {
      "image/png": "[encoded data removed]",
      "text/plain": [
       "<Figure size 432x288 with 1 Axes>"
      ]
     },
     "metadata": {
      "needs_background": "light"
     },
     "output_type": "display_data"
    }
   ],
   "source": [
    "plt.plot(lh3)"
   ]
  },
  {
   "cell_type": "code",
   "execution_count": 60,
   "metadata": {},
   "outputs": [],
   "source": [
    "old3 = incm.generate_internal(h3, truefwd=False)"
   ]
  },
  {
   "cell_type": "code",
   "execution_count": null,
   "metadata": {},
   "outputs": [],
   "source": []
  },
  {
   "cell_type": "code",
   "execution_count": 61,
   "metadata": {},
   "outputs": [
    {
     "data": {
      "text/plain": [
       "<tensorflow.python.training.tracking.util.CheckpointLoadStatus at 0x7fc860c05e50>"
      ]
     },
     "execution_count": 61,
     "metadata": {},
     "output_type": "execute_result"
    }
   ],
   "source": [
    "incm.load_weights(\"si_step3\")"
   ]
  },
  {
   "cell_type": "code",
   "execution_count": 62,
   "metadata": {},
   "outputs": [
    {
     "name": "stdout",
     "output_type": "stream",
     "text": [
      "Training loss [0.02416128 0.02519109 0.06121648 0.02455562]\n",
      "Training loss [0.01936282 0.01481262 0.0139647  0.0139531 ]\n"
     ]
    }
   ],
   "source": [
    "#incm.train(mixed, 2)\n",
    "loss, dat = incm.train_interleaved(cdp[3], old3, 200, split=[128, 8])"
   ]
  },
  {
   "cell_type": "code",
   "execution_count": 63,
   "metadata": {
    "scrolled": true
   },
   "outputs": [
    {
     "name": "stdout",
     "output_type": "stream",
     "text": [
      "0.4135\n"
     ]
    },
    {
     "data": {
      "image/png": "[encoded data removed]",
      "text/plain": [
       "<Figure size 432x288 with 1 Axes>"
      ]
     },
     "metadata": {
      "needs_background": "light"
     },
     "output_type": "display_data"
    }
   ],
   "source": [
    "plotconf()"
   ]
  },
  {
   "cell_type": "code",
   "execution_count": 64,
   "metadata": {
    "scrolled": true
   },
   "outputs": [
    {
     "name": "stdout",
     "output_type": "stream",
     "text": [
      "Training loss [0.00652479 0.00374519 0.00162012 0.0026734 ]\n"
     ]
    },
    {
     "data": {
      "text/plain": [
       "array([[0.00652479, 0.00374519, 0.00162012, 0.0026734 ],\n",
       "       [0.00375502, 0.00240397, 0.00146668, 0.00204797],\n",
       "       [0.00396137, 0.00229327, 0.0017382 , 0.00200318],\n",
       "       [0.00429671, 0.00268197, 0.00154264, 0.00190064],\n",
       "       [0.00379368, 0.00238502, 0.00158966, 0.0021129 ],\n",
       "       [0.00361426, 0.00264003, 0.00173737, 0.00211549],\n",
       "       [0.00437666, 0.00301612, 0.00224899, 0.00271861],\n",
       "       [0.00426188, 0.00297076, 0.00176129, 0.00196407],\n",
       "       [0.00406482, 0.00299352, 0.00212234, 0.00244915],\n",
       "       [0.00353421, 0.00287266, 0.00243507, 0.00238966],\n",
       "       [0.0032773 , 0.00257327, 0.00221818, 0.00192927],\n",
       "       [0.00360608, 0.00290595, 0.00252466, 0.00201807],\n",
       "       [0.00301463, 0.00219237, 0.00263206, 0.00216067],\n",
       "       [0.00346909, 0.00255301, 0.00223178, 0.00198638],\n",
       "       [0.00368968, 0.00258755, 0.00250954, 0.0023538 ],\n",
       "       [0.00322653, 0.00193751, 0.00190813, 0.00228683],\n",
       "       [0.00339815, 0.00252832, 0.00212244, 0.00219132],\n",
       "       [0.00316063, 0.00247423, 0.00184655, 0.0020544 ],\n",
       "       [0.00340252, 0.00245467, 0.00197229, 0.00217806],\n",
       "       [0.00324867, 0.00203955, 0.00173709, 0.00206316],\n",
       "       [0.00312453, 0.00226929, 0.00181423, 0.00234645],\n",
       "       [0.00350996, 0.00274977, 0.00175882, 0.00218718],\n",
       "       [0.00339481, 0.00280124, 0.00222181, 0.0025041 ],\n",
       "       [0.00318965, 0.00255318, 0.00207651, 0.00221922],\n",
       "       [0.00289084, 0.00244206, 0.00217124, 0.00185952],\n",
       "       [0.00293705, 0.00267986, 0.00258155, 0.00204256],\n",
       "       [0.00322479, 0.00295309, 0.0027742 , 0.00221271],\n",
       "       [0.00264249, 0.00262116, 0.00222985, 0.00201941],\n",
       "       [0.00324119, 0.00286371, 0.00239785, 0.00221915],\n",
       "       [0.00235456, 0.00214586, 0.00151907, 0.00168324],\n",
       "       [0.00236665, 0.00182464, 0.00161952, 0.00182561],\n",
       "       [0.00266707, 0.00194888, 0.00158281, 0.00182684],\n",
       "       [0.00277122, 0.00192748, 0.00157154, 0.00170315],\n",
       "       [0.00290619, 0.00204754, 0.00216281, 0.00215472],\n",
       "       [0.00306204, 0.00222279, 0.00177378, 0.00189809],\n",
       "       [0.00250723, 0.00200163, 0.00207384, 0.00204459],\n",
       "       [0.0031844 , 0.00222515, 0.00240883, 0.00178986],\n",
       "       [0.00305521, 0.00206729, 0.00274735, 0.00206713],\n",
       "       [0.00306935, 0.00218585, 0.00251584, 0.00173461],\n",
       "       [0.00418872, 0.00292546, 0.00265714, 0.00150973]], dtype=float32)"
      ]
     },
     "execution_count": 64,
     "metadata": {},
     "output_type": "execute_result"
    }
   ],
   "source": [
    "incm.train(old3, 1)"
   ]
  },
  {
   "cell_type": "code",
   "execution_count": 65,
   "metadata": {
    "scrolled": true
   },
   "outputs": [
    {
     "name": "stdout",
     "output_type": "stream",
     "text": [
      "0.5697\n"
     ]
    },
    {
     "data": {
      "image/png": "[encoded data removed]",
      "text/plain": [
       "<Figure size 432x288 with 1 Axes>"
      ]
     },
     "metadata": {
      "needs_background": "light"
     },
     "output_type": "display_data"
    }
   ],
   "source": [
    "plotconf()"
   ]
  },
  {
   "cell_type": "code",
   "execution_count": 66,
   "metadata": {},
   "outputs": [],
   "source": [
    "incm.save_weights(\"si_step4\")"
   ]
  },
  {
   "cell_type": "markdown",
   "metadata": {},
   "source": [
    "# Train on fifth & last pair"
   ]
  },
  {
   "cell_type": "code",
   "execution_count": 67,
   "metadata": {},
   "outputs": [
    {
     "name": "stdout",
     "output_type": "stream",
     "text": [
      "[1.0010648 1.0000747]\n",
      "[0.18277818 0.17383133]\n",
      "[0.06983739 0.05505988]\n",
      "[0.04255334 0.02971426]\n"
     ]
    }
   ],
   "source": [
    "h4, lh4 = incm.reconstruct_info(5000, 400, optimizer=keras.optimizers.RMSprop(lr=0.01))"
   ]
  },
  {
   "cell_type": "code",
   "execution_count": 68,
   "metadata": {},
   "outputs": [
    {
     "data": {
      "text/plain": [
       "[<matplotlib.lines.Line2D at 0x7fc860ac09d0>,\n",
       " <matplotlib.lines.Line2D at 0x7fc860ac0ac0>]"
      ]
     },
     "execution_count": 68,
     "metadata": {},
     "output_type": "execute_result"
    },
    {
     "data": {
      "image/png": "[encoded data removed]",
      "text/plain": [
       "<Figure size 432x288 with 1 Axes>"
      ]
     },
     "metadata": {
      "needs_background": "light"
     },
     "output_type": "display_data"
    }
   ],
   "source": [
    "plt.plot(lh4)"
   ]
  },
  {
   "cell_type": "code",
   "execution_count": 69,
   "metadata": {},
   "outputs": [],
   "source": [
    "old4 = incm.generate_internal(h4, truefwd=False)"
   ]
  },
  {
   "cell_type": "code",
   "execution_count": null,
   "metadata": {},
   "outputs": [],
   "source": []
  },
  {
   "cell_type": "code",
   "execution_count": 94,
   "metadata": {
    "scrolled": true
   },
   "outputs": [
    {
     "data": {
      "text/plain": [
       "<tensorflow.python.training.tracking.util.CheckpointLoadStatus at 0x7fc860e2b850>"
      ]
     },
     "execution_count": 94,
     "metadata": {},
     "output_type": "execute_result"
    }
   ],
   "source": [
    "incm.load_weights(\"si_step4\")"
   ]
  },
  {
   "cell_type": "code",
   "execution_count": 95,
   "metadata": {},
   "outputs": [
    {
     "name": "stdout",
     "output_type": "stream",
     "text": [
      "Training loss [0.02409097 0.02495105 0.05884433 0.02457536]\n"
     ]
    }
   ],
   "source": [
    "#incm.train(mixed, 2)\n",
    "loss, dat = incm.train_interleaved(cdp[4], old4, 100, split=[128, 8])"
   ]
  },
  {
   "cell_type": "code",
   "execution_count": 96,
   "metadata": {
    "scrolled": true
   },
   "outputs": [
    {
     "name": "stdout",
     "output_type": "stream",
     "text": [
      "0.4544\n"
     ]
    },
    {
     "data": {
      "image/png": "[encoded data removed]",
      "text/plain": [
       "<Figure size 432x288 with 1 Axes>"
      ]
     },
     "metadata": {
      "needs_background": "light"
     },
     "output_type": "display_data"
    }
   ],
   "source": [
    "plotconf()"
   ]
  },
  {
   "cell_type": "code",
   "execution_count": 97,
   "metadata": {
    "scrolled": true
   },
   "outputs": [
    {
     "name": "stdout",
     "output_type": "stream",
     "text": [
      "Training loss [0.00282104 0.00234553 0.0017885  0.00230118]\n"
     ]
    },
    {
     "data": {
      "text/plain": [
       "array([[0.00282104, 0.00234553, 0.0017885 , 0.00230118],\n",
       "       [0.0027222 , 0.00193697, 0.00134994, 0.00185786],\n",
       "       [0.00297118, 0.00219099, 0.00137988, 0.00192752],\n",
       "       [0.00206951, 0.00190471, 0.0010567 , 0.00148029],\n",
       "       [0.00212807, 0.00238429, 0.00115599, 0.00190132],\n",
       "       [0.00221668, 0.00219172, 0.00147292, 0.0020015 ],\n",
       "       [0.00175336, 0.00171335, 0.00194817, 0.00164951],\n",
       "       [0.00196738, 0.00159833, 0.0012795 , 0.00141638],\n",
       "       [0.00199268, 0.00175519, 0.00145467, 0.00179026],\n",
       "       [0.00189958, 0.00165462, 0.001551  , 0.00159666],\n",
       "       [0.0021972 , 0.0017736 , 0.00237136, 0.00223306],\n",
       "       [0.00237463, 0.00190184, 0.00221497, 0.00209246],\n",
       "       [0.00235376, 0.002063  , 0.00238567, 0.00210481],\n",
       "       [0.00183893, 0.00138678, 0.00178478, 0.00173736],\n",
       "       [0.00244941, 0.00212196, 0.00241671, 0.00244555],\n",
       "       [0.00244106, 0.00190043, 0.00174029, 0.0018876 ],\n",
       "       [0.00235163, 0.00185123, 0.00161989, 0.00166402],\n",
       "       [0.00270128, 0.00242429, 0.00149005, 0.00159463],\n",
       "       [0.00217719, 0.00218642, 0.00135272, 0.00147808],\n",
       "       [0.00219221, 0.0021476 , 0.00121161, 0.00140754],\n",
       "       [0.00222346, 0.00216269, 0.00151398, 0.00171256],\n",
       "       [0.0020816 , 0.00220244, 0.00146833, 0.00145895],\n",
       "       [0.00195118, 0.00208449, 0.00160718, 0.00134936],\n",
       "       [0.00186532, 0.00179151, 0.00231859, 0.00167525],\n",
       "       [0.00190703, 0.00186872, 0.00267144, 0.00187911],\n",
       "       [0.00204718, 0.00190306, 0.00214989, 0.00208775],\n",
       "       [0.00244026, 0.00259046, 0.00279331, 0.00297588],\n",
       "       [0.00221989, 0.00231444, 0.0018379 , 0.00211837],\n",
       "       [0.00203885, 0.00213444, 0.00186823, 0.00245956],\n",
       "       [0.00188441, 0.00205473, 0.00201706, 0.0020264 ],\n",
       "       [0.00208146, 0.00208462, 0.00206045, 0.00200386],\n",
       "       [0.00200896, 0.00204087, 0.00175916, 0.0015087 ],\n",
       "       [0.00192023, 0.00173188, 0.00163055, 0.00163548],\n",
       "       [0.00175871, 0.00159598, 0.00138547, 0.0013328 ],\n",
       "       [0.00167203, 0.00176719, 0.00141218, 0.00132746],\n",
       "       [0.00189077, 0.00180813, 0.00152955, 0.00153958],\n",
       "       [0.00202086, 0.00168572, 0.0018618 , 0.00181201],\n",
       "       [0.00185211, 0.00166728, 0.00152931, 0.00168491],\n",
       "       [0.0015854 , 0.00156179, 0.00151799, 0.00149225],\n",
       "       [0.00517048, 0.00450226, 0.00505995, 0.00406873]], dtype=float32)"
      ]
     },
     "execution_count": 97,
     "metadata": {},
     "output_type": "execute_result"
    }
   ],
   "source": [
    "incm.train(old4,1)"
   ]
  },
  {
   "cell_type": "code",
   "execution_count": 98,
   "metadata": {
    "scrolled": true
   },
   "outputs": [
    {
     "name": "stdout",
     "output_type": "stream",
     "text": [
      "0.6636\n"
     ]
    },
    {
     "data": {
      "image/png": "[encoded data removed]",
      "text/plain": [
       "<Figure size 432x288 with 1 Axes>"
      ]
     },
     "metadata": {
      "needs_background": "light"
     },
     "output_type": "display_data"
    }
   ],
   "source": [
    "plotconf()"
   ]
  },
  {
   "cell_type": "code",
   "execution_count": 102,
   "metadata": {},
   "outputs": [],
   "source": [
    "i_accs = [0.2113, 0.3733, 0.4641, 0.5697, 0.6636]\n",
    "ts_accs = [0.2114, 0.4100, 0.5643, 0.7017, 0.8130]\n",
    "xy_accs = [0.2114, 0.4144, 0.6001, 0.7922, 0.9824]"
   ]
  },
  {
   "cell_type": "code",
   "execution_count": 104,
   "metadata": {},
   "outputs": [],
   "source": [
    "dpi=100"
   ]
  },
  {
   "cell_type": "code",
   "execution_count": 115,
   "metadata": {},
   "outputs": [
    {
     "data": {
      "text/plain": [
       "<matplotlib.legend.Legend at 0x7fc8607031c0>"
      ]
     },
     "execution_count": 115,
     "metadata": {},
     "output_type": "execute_result"
    },
    {
     "data": {
      "image/png": "[encoded data removed]",
      "text/plain": [
       "<Figure size 600x400 with 1 Axes>"
      ]
     },
     "metadata": {
      "needs_background": "light"
     },
     "output_type": "display_data"
    }
   ],
   "source": [
    "plt.figure(dpi=dpi)\n",
    "plt.plot(i_accs, '-', label=\"Distilled Symbols\")\n",
    "plt.plot(ts_accs, '-', label=\"Stored Symbols\")\n",
    "plt.plot(xy_accs, '-', label=\"Stored Images/Labels\")\n",
    "plt.scatter(np.arange(0,5), i_accs)\n",
    "plt.scatter(np.arange(0,5), ts_accs)\n",
    "plt.scatter(np.arange(0,5), xy_accs)\n",
    "plt.xticks(np.arange(0,5), np.arange(1,6))\n",
    "plt.xlabel(\"Task\")\n",
    "plt.ylabel(\"Test Accuracy\")\n",
    "plt.ylim(0,1.0)\n",
    "plt.legend()"
   ]
  },
  {
   "cell_type": "code",
   "execution_count": null,
   "metadata": {},
   "outputs": [],
   "source": []
  },
  {
   "cell_type": "code",
   "execution_count": null,
   "metadata": {},
   "outputs": [],
   "source": []
  },
  {
   "cell_type": "code",
   "execution_count": 76,
   "metadata": {},
   "outputs": [
    {
     "name": "stdout",
     "output_type": "stream",
     "text": [
      "Training loss [0.03687517 0.03319413 0.02754114 0.030156  ]\n"
     ]
    }
   ],
   "source": [
    "#incm.train(mixed, 2)\n",
    "loss, dat = incm.train_interleaved(cdp[4], old4, 25, split=[128, 16])"
   ]
  },
  {
   "cell_type": "code",
   "execution_count": 118,
   "metadata": {
    "scrolled": false
   },
   "outputs": [
    {
     "name": "stdout",
     "output_type": "stream",
     "text": [
      "0.6636\n"
     ]
    },
    {
     "data": {
      "image/png": "[encoded data removed]",
      "text/plain": [
       "<Figure size 432x288 with 1 Axes>"
      ]
     },
     "metadata": {
      "needs_background": "light"
     },
     "output_type": "display_data"
    }
   ],
   "source": [
    "plotconf()"
   ]
  },
  {
   "cell_type": "code",
   "execution_count": 64,
   "metadata": {},
   "outputs": [
    {
     "name": "stdout",
     "output_type": "stream",
     "text": [
      "Training loss [0.15548968 0.14059632 0.318475   0.13942079]\n",
      "Training loss [0.07522865 0.06643294 0.06550051 0.06415924]\n"
     ]
    }
   ],
   "source": [
    "#incm.train(mixed, 2)\n",
    "loss, dat = incm.train_interleaved(cdp[4], old4, 200, split=[128, 64])"
   ]
  },
  {
   "cell_type": "code",
   "execution_count": 65,
   "metadata": {
    "scrolled": true
   },
   "outputs": [
    {
     "name": "stdout",
     "output_type": "stream",
     "text": [
      "0.4445\n"
     ]
    },
    {
     "data": {
      "image/png": "[encoded data removed]",
      "text/plain": [
       "<Figure size 432x288 with 1 Axes>"
      ]
     },
     "metadata": {
      "needs_background": "light"
     },
     "output_type": "display_data"
    }
   ],
   "source": [
    "plotconf()"
   ]
  },
  {
   "cell_type": "code",
   "execution_count": 59,
   "metadata": {},
   "outputs": [],
   "source": [
    "incm.save_weights(\"si_step5\")"
   ]
  },
  {
   "cell_type": "markdown",
   "metadata": {},
   "source": [
    "\n",
    "\n",
    "\n",
    "\n",
    "\n",
    "\n",
    "\n",
    "\n",
    "\n",
    "\n",
    "\n",
    "\n",
    "\n",
    "\n",
    "\n",
    "\n",
    "\n",
    "\n",
    "\n",
    "\n",
    "\n",
    "\n",
    "\n",
    "\n",
    "\n",
    "\n",
    "\n"
   ]
  },
  {
   "cell_type": "markdown",
   "metadata": {},
   "source": [
    "\n",
    "\n",
    "\n",
    "\n",
    "\n",
    "\n",
    "\n",
    "\n",
    "\n",
    "\n",
    "\n",
    "\n",
    "\n",
    "\n",
    "\n",
    "\n",
    "\n",
    "\n",
    "\n",
    "\n",
    "\n",
    "\n",
    "\n"
   ]
  },
  {
   "cell_type": "markdown",
   "metadata": {},
   "source": [
    "\n",
    "\n",
    "\n",
    "\n",
    "\n",
    "\n",
    "\n",
    "\n",
    "\n",
    "\n",
    "\n",
    "\n",
    "\n",
    "\n",
    "\n",
    "\n",
    "\n",
    "\n",
    "\n",
    "\n",
    "\n",
    "\n",
    "\n",
    "\n",
    "\n",
    "\n",
    "\n",
    "\n",
    "\n",
    "\n"
   ]
  }
 ],
 "metadata": {
  "kernelspec": {
   "display_name": "Python 3",
   "language": "python",
   "name": "python3"
  },
  "language_info": {
   "codemirror_mode": {
    "name": "ipython",
    "version": 3
   },
   "file_extension": ".py",
   "mimetype": "text/x-python",
   "name": "python",
   "nbconvert_exporter": "python",
   "pygments_lexer": "ipython3",
   "version": "3.8.5"
  }
 },
 "nbformat": 4,
 "nbformat_minor": 4
}
